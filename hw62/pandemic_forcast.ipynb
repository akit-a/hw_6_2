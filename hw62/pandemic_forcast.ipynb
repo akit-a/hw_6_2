{
 "cells": [
  {
   "cell_type": "markdown",
   "metadata": {},
   "source": [
    "# Beer Sales Forecast Adjustment under Pandemic\n",
    "## Impact Quantification and Predictive Modeling"
   ]
  },
  {
   "cell_type": "code",
   "execution_count": 2,
   "metadata": {},
   "outputs": [],
   "source": [
    "import pandas as pd\n",
    "import numpy as np\n",
    "from datetime import datetime\n",
    "import matplotlib.pyplot as plt\n",
    "import seaborn as sns\n",
    "from sklearn.model_selection import train_test_split\n",
    "from sklearn.ensemble import RandomForestRegressor\n",
    "from sklearn.preprocessing import StandardScaler\n",
    "from sklearn.metrics import mean_absolute_error, mean_squared_error, r2_score  "
   ]
  },
  {
   "cell_type": "markdown",
   "metadata": {},
   "source": [
    "## Data Preparation & Feature Engineering"
   ]
  },
  {
   "cell_type": "code",
   "execution_count": 4,
   "metadata": {},
   "outputs": [
    {
     "name": "stderr",
     "output_type": "stream",
     "text": [
      "/var/folders/p7/xyrxrkz530dgfqm2hw8gz6ph0000gn/T/ipykernel_32020/2573892226.py:42: FutureWarning: DataFrame.fillna with 'method' is deprecated and will raise in a future version. Use obj.ffill() or obj.bfill() instead.\n",
      "  merged_data = merged_data.fillna(method='ffill')  # Forward fill pandemic metrics\n"
     ]
    }
   ],
   "source": [
    "# Load and merge datasets\n",
    "pandemic = pd.read_csv(\n",
    "    'raw_data/pandemic_data.csv',\n",
    "    parse_dates=['date'],\n",
    "    date_format='%m/%d/%y'\n",
    ")\n",
    "\n",
    "sales = pd.read_csv(\n",
    "    'raw_data/sales&forecast_data.csv',\n",
    "    parse_dates=['date'],\n",
    "    date_format='%m/%d/%y' \n",
    ")\n",
    "\n",
    "# Merge datasets on date\n",
    "merged_data = pd.merge(sales, pandemic, on='date', how='left')\n",
    "\n",
    "# Create pandemic impact metrics\n",
    "merged_data['active_cases'] = merged_data['confirmed'] - merged_data['deaths'] - merged_data['recovered']\n",
    "merged_data['mortality_rate'] = merged_data['deaths'] / merged_data['confirmed']\n",
    "merged_data['recovery_rate'] = merged_data['recovered'] / merged_data['confirmed']\n",
    "\n",
    "# Create time-based features\n",
    "merged_data['day_of_week'] = merged_data['date'].dt.dayofweek\n",
    "merged_data['is_weekend'] = merged_data['day_of_week'].isin([5,6]).astype(int)\n",
    "merged_data['day_of_month'] = merged_data['date'].dt.day\n",
    "merged_data['month'] = merged_data['date'].dt.month\n",
    "\n",
    "# Create lag features for pandemic impact\n",
    "for lag in [1, 3, 7]:  # 1-day, 3-day, and 1-week lags\n",
    "    merged_data[f'active_cases_lag{lag}'] = merged_data['active_cases'].shift(lag)\n",
    "    merged_data[f'mortality_rate_lag{lag}'] = merged_data['mortality_rate'].shift(lag)\n",
    "\n",
    "# Create rolling averages for pandemic metrics\n",
    "merged_data['7d_avg_active'] = merged_data['active_cases'].rolling(window=7).mean()\n",
    "merged_data['7d_avg_mortality'] = merged_data['mortality_rate'].rolling(window=7).mean()\n",
    "\n",
    "# Create forecast error feature (difference between pre-pandemic forecast and actual)\n",
    "merged_data['forecast_error'] = merged_data['real'] - merged_data['forecast']\n",
    "\n",
    "# Handle missing values (initial pandemic data before sales records)\n",
    "merged_data = merged_data[merged_data['date'] >= '2020-12-01']  # Align with sales data start\n",
    "merged_data = merged_data.fillna(method='ffill')  # Forward fill pandemic metrics\n",
    "\n",
    "# Split into training and future prediction data\n",
    "train_data = merged_data[merged_data['date'] <= '2021-01-31']\n",
    "future_data = merged_data[merged_data['date'] > '2021-01-31']\n",
    "\n",
    "# Feature selection\n",
    "features = [\n",
    "    'day_of_week', 'is_weekend', 'day_of_month', 'month',\n",
    "    'active_cases', 'mortality_rate', 'recovery_rate',\n",
    "    'active_cases_lag1', 'mortality_rate_lag1',\n",
    "    '7d_avg_active', '7d_avg_mortality',\n",
    "    'forecast'  # Original pre-pandemic forecast\n",
    "]\n",
    "\n",
    "target = 'real'"
   ]
  },
  {
   "cell_type": "markdown",
   "metadata": {},
   "source": [
    "## Model Training & Validation"
   ]
  },
  {
   "cell_type": "code",
   "execution_count": 5,
   "metadata": {},
   "outputs": [
    {
     "name": "stdout",
     "output_type": "stream",
     "text": [
      "Validation Metrics:\n",
      "MAE: 7.51\n",
      "RMSE: 8.62\n",
      "R²: 0.76\n"
     ]
    },
    {
     "data": {
      "image/png": "[encoded data removed]",
      "text/plain": [
       "<Figure size 640x480 with 1 Axes>"
      ]
     },
     "metadata": {},
     "output_type": "display_data"
    }
   ],
   "source": [
    "# Handle temporal split properly\n",
    "split_date = pd.to_datetime('2021-01-20')  # Last 10 days for validation\n",
    "train = train_data[train_data['date'] <= split_date]\n",
    "val = train_data[train_data['date'] > split_date]\n",
    "\n",
    "# Prepare features (removed target-derived 'is_zero' to prevent data leakage)\n",
    "final_features = [\n",
    "    'day_of_week', 'is_weekend', 'day_of_month', 'month',\n",
    "    'active_cases', 'mortality_rate', 'recovery_rate',\n",
    "    'active_cases_lag1', 'mortality_rate_lag1',\n",
    "    '7d_avg_active', '7d_avg_mortality',\n",
    "    'forecast'  # Pre-pandemic baseline\n",
    "]\n",
    "\n",
    "# Split data maintaining temporal order\n",
    "X_train = train[final_features]\n",
    "y_train = train[target]\n",
    "X_val = val[final_features]\n",
    "y_val = val[target]\n",
    "\n",
    "# Train optimized Random Forest model\n",
    "model = RandomForestRegressor(\n",
    "    n_estimators=300,\n",
    "    max_depth=7,\n",
    "    min_samples_split=10,\n",
    "    max_features=0.8,\n",
    "    random_state=42,\n",
    "    n_jobs=-1\n",
    ")\n",
    "model.fit(X_train, y_train)\n",
    "\n",
    "# Validate with multiple metrics\n",
    "val_pred = model.predict(X_val)\n",
    "mae = mean_absolute_error(y_val, val_pred)\n",
    "rmse = np.sqrt(mean_squared_error(y_val, val_pred))\n",
    "r2 = r2_score(y_val, val_pred)\n",
    "\n",
    "print(f'Validation Metrics:\\nMAE: {mae:.2f}\\nRMSE: {rmse:.2f}\\nR²: {r2:.2f}')\n",
    "\n",
    "# Feature importance analysis with filtering\n",
    "feat_importances = pd.Series(model.feature_importances_, index=final_features)\n",
    "significant_features = feat_importances[feat_importances > 0.01]\n",
    "significant_features.sort_values().plot(kind='barh', color='teal')\n",
    "plt.title('Key Predictive Features (Importance > 1%)')\n",
    "plt.xlabel('Relative Importance')\n",
    "plt.tight_layout()\n",
    "plt.show()\n"
   ]
  },
  {
   "cell_type": "markdown",
   "metadata": {},
   "source": [
    "## Scenario-based Forecasting Implementation"
   ]
  },
  {
   "cell_type": "code",
   "execution_count": null,
   "metadata": {},
   "outputs": [
    {
     "ename": "NameError",
     "evalue": "name 'scenario_data' is not defined",
     "output_type": "error",
     "traceback": [
      "\u001b[31m---------------------------------------------------------------------------\u001b[39m",
      "\u001b[31mNameError\u001b[39m                                 Traceback (most recent call last)",
      "\u001b[36mCell\u001b[39m\u001b[36m \u001b[39m\u001b[32mIn[14]\u001b[39m\u001b[32m, line 30\u001b[39m\n\u001b[32m     27\u001b[39m     \u001b[38;5;28;01mreturn\u001b[39;00m df.ffill()\n\u001b[32m     29\u001b[39m \u001b[38;5;66;03m# Create features and merge sales data\u001b[39;00m\n\u001b[32m---> \u001b[39m\u001b[32m30\u001b[39m scenario_features = create_features(\u001b[43mscenario_data\u001b[49m)\n\u001b[32m     31\u001b[39m scenario_features = pd.merge(\n\u001b[32m     32\u001b[39m     scenario_features,\n\u001b[32m     33\u001b[39m     sales[[\u001b[33m'\u001b[39m\u001b[33mdate\u001b[39m\u001b[33m'\u001b[39m, \u001b[33m'\u001b[39m\u001b[33mforecast\u001b[39m\u001b[33m'\u001b[39m]],  \u001b[38;5;66;03m# Include original forecast\u001b[39;00m\n\u001b[32m     34\u001b[39m     on=\u001b[33m'\u001b[39m\u001b[33mdate\u001b[39m\u001b[33m'\u001b[39m,\n\u001b[32m     35\u001b[39m     how=\u001b[33m'\u001b[39m\u001b[33mleft\u001b[39m\u001b[33m'\u001b[39m\n\u001b[32m     36\u001b[39m )\n\u001b[32m     38\u001b[39m \u001b[38;5;66;03m# Filter prediction period\u001b[39;00m\n",
      "\u001b[31mNameError\u001b[39m: name 'scenario_data' is not defined"
     ]
    }
   ],
   "source": [
    "# 特徴量エンジニアリング関数の修正\n",
    "def create_features(df):\n",
    "    df = df.copy()\n",
    "    \n",
    "    # active_casesカラムがない場合は計算して追加\n",
    "    if 'active_cases' not in df.columns:\n",
    "        df['active_cases'] = df['confirmed'] - df['deaths'] - df['recovered']\n",
    "    \n",
    "    # 時間関連の特徴量\n",
    "    df['day_of_week'] = df['date'].dt.dayofweek\n",
    "    df['is_weekend'] = df['day_of_week'].isin([5,6]).astype(int)\n",
    "    df['day_of_month'] = df['date'].dt.day\n",
    "    df['month'] = df['date'].dt.month\n",
    "    \n",
    "    # ラグ特徴量\n",
    "    df['active_cases_lag1'] = df['active_cases'].shift(1)\n",
    "    df['mortality_rate'] = df['deaths'] / df['confirmed']\n",
    "    df['mortality_rate_lag1'] = df['mortality_rate'].shift(1)\n",
    "    \n",
    "    # 移動平均\n",
    "    df['7d_avg_active'] = df['active_cases'].rolling(7, min_periods=1).mean()\n",
    "    df['7d_avg_mortality'] = df['mortality_rate'].rolling(7, min_periods=1).mean()\n",
    "    \n",
    "    return df.ffill()\n",
    "\n",
    "# 将来データの特徴量作成\n",
    "future_features = create_features(future_data)\n",
    "\n",
    "# 予測期間のフィルタリング\n",
    "future_scenarios = future_features[\n",
    "    (future_features['date'] >= '2021-02-01') & \n",
    "    (future_features['date'] <= '2021-03-31')\n",
    "]\n",
    "\n",
    "# 特徴量の準備（トレーニング特徴量と完全に一致）\n",
    "features = [\n",
    "    'day_of_week', 'is_weekend', 'day_of_month', 'month',\n",
    "    'active_cases', 'mortality_rate', 'recovery_rate',\n",
    "    'active_cases_lag1', 'mortality_rate_lag1',\n",
    "    '7d_avg_active', '7d_avg_mortality',\n",
    "    'forecast'  # オリジナルの予測を含める\n",
    "]\n",
    "\n",
    "# 特徴量の一貫性を確認\n",
    "missing_features = set(features) - set(future_scenarios.columns)\n",
    "if missing_features:\n",
    "    print(f\"Missing features: {missing_features}\")\n",
    "    # 必要に応じて欠落している特徴量を追加または処理\n",
    "\n",
    "# 残りの欠損値を処理\n",
    "future_scenarios[features] = future_scenarios[features].fillna(method='ffill').fillna(0)\n",
    "\n",
    "# 予測を行う\n",
    "future_scenarios['predicted_sales'] = model.predict(future_scenarios[features])\n",
    "\n",
    "# 最終的な提出ファイルの作成\n",
    "submission = sales[['date', 'forecast']].copy()\n",
    "submission['date'] = pd.to_datetime(submission['date'], format='%m/%d/%y')\n",
    "submission = submission.merge(\n",
    "    future_scenarios[['date', 'predicted_sales']],\n",
    "    on='date',\n",
    "    how='right'\n",
    ")\n",
    "\n",
    "# 最終予測として予測された販売量を使用\n",
    "submission['final_forecast'] = submission['predicted_sales'].fillna(submission['forecast'])\n",
    "\n",
    "# オリジナルの予測に対するMAEを計算\n",
    "mae = mean_absolute_error(\n",
    "    submission['final_forecast'], \n",
    "    submission['forecast'].fillna(submission['final_forecast'])\n",
    ")\n",
    "print(f'Adjusted MAE: {mae:.2f}')\n",
    "\n",
    "# 結果を保存\n",
    "submission[['date', 'final_forecast']].to_csv('final_adjusted_forecast.csv', index=False)\n",
    "\n",
    "# 可視化\n",
    "plt.figure(figsize=(14,7))\n",
    "plt.plot(submission['date'], submission['forecast'], \n",
    "         label='Original Forecast', color='grey', linestyle='--')\n",
    "plt.plot(submission['date'], submission['final_forecast'], \n",
    "         label='Adjusted Forecast', color='blue')\n",
    "plt.title('COVID-19 Impact Adjustment: Sales Forecast Comparison\\nFeb-Mar 2021')\n",
    "plt.ylabel('Sales Volume (kL)')\n",
    "plt.legend()\n",
    "plt.grid(alpha=0.1)\n",
    "plt.tight_layout()\n",
    "plt.show()\n"
   ]
  }
 ],
 "metadata": {
  "kernelspec": {
   "display_name": "myenv",
   "language": "python",
   "name": "python3"
  },
  "language_info": {
   "codemirror_mode": {
    "name": "ipython",
    "version": 3
   },
   "file_extension": ".py",
   "mimetype": "text/x-python",
   "name": "python",
   "nbconvert_exporter": "python",
   "pygments_lexer": "ipython3",
   "version": "3.13.2"
  }
 },
 "nbformat": 4,
 "nbformat_minor": 4
}
